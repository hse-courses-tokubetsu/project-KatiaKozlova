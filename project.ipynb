{
  "cells": [
    {
      "cell_type": "code",
      "execution_count": 4,
      "metadata": {
        "id": "uqSKtoET1GKu"
      },
      "outputs": [],
      "source": [
        "import shutil\n",
        "\n",
        "pth = shutil.copytree('drive/MyDrive/project', '/content', dirs_exist_ok=True)"
      ]
    },
    {
      "cell_type": "code",
      "source": [
        "# Installations\n",
        "\n",
        "# !pip install -q pyngrok\n",
        "# !pip install -q flask\n",
        "# !pip install -q flask-ngrok\n",
        "# !pip install -q rank-bm25\n",
        "# !pip install -q pymorphy2\n",
        "# !pip install -q navec\n",
        "# !pip install -q wget"
      ],
      "metadata": {
        "id": "IXQx_s90S5x_"
      },
      "execution_count": null,
      "outputs": []
    },
    {
      "cell_type": "code",
      "source": [
        "# Authentication\n",
        "\n",
        "# !ngrok authtoken your_authtoken"
      ],
      "metadata": {
        "id": "F3IZjpYL0ASH"
      },
      "execution_count": null,
      "outputs": []
    },
    {
      "cell_type": "code",
      "source": [
        "import wget\n",
        "\n",
        "pth = wget.download('https://storage.yandexcloud.net/natasha-navec/packs/navec_hudlit_v1_12B_500K_300d_100q.tar')\n",
        "pth = wget.download('http://vectors.nlpl.eu/repository/20/65.zip')"
      ],
      "metadata": {
        "id": "k5kg83jXSvok"
      },
      "execution_count": 12,
      "outputs": []
    },
    {
      "cell_type": "code",
      "execution_count": 18,
      "metadata": {
        "id": "kTUkoeKg24wS"
      },
      "outputs": [],
      "source": [
        "from flask import Flask, render_template, request, redirect, url_for\n",
        "from flask_ngrok import run_with_ngrok\n",
        "from bm import IndexatorBM25\n",
        "from embed import Embedder\n",
        "from lemm import Lemmatizer\n",
        "import json\n",
        "from os import path\n",
        "import time\n",
        "\n",
        "app = Flask(__name__)\n",
        "run_with_ngrok(app)\n",
        "\n",
        "@app.route('/')\n",
        "def home():\n",
        "    return render_template('home.html')\n",
        "\n",
        "@app.route('/about')\n",
        "def about():\n",
        "    return render_template('about.html')\n",
        "\n",
        "@app.route('/process', methods=['GET', 'POST'])\n",
        "def answer_process():\n",
        "    query = request.args.get('search')\n",
        "    n = int(request.args.get('n_top'))\n",
        "    model_type = request.args.get('models')\n",
        "    if not all([query, model_type]):\n",
        "        return redirect(url_for('home'))\n",
        "    start = time.time()\n",
        "    if not path.isfile('corpus.json'):\n",
        "        lemzer = Lemmatizer()\n",
        "        corpus, texts = lemzer.preprocess()\n",
        "        with open('corpus.json', 'w', encoding='utf-8') as corp:\n",
        "            json.dump(corpus, corp, ensure_ascii=False, indent=3)\n",
        "        with open('texts.json', 'w', encoding='utf-8') as txt:\n",
        "            json.dump(texts, txt, ensure_ascii=False, indent=3)\n",
        "    else:\n",
        "        with open('corpus.json', 'r', encoding='utf-8') as corp:\n",
        "            corpus = json.load(corp)\n",
        "        with open('texts.json', 'r', encoding='utf-8') as txt:\n",
        "            texts = json.load(txt)\n",
        "\n",
        "    if model_type == 'w2v' or model_type == 'nvc':\n",
        "        indexator = Embedder(corpus, texts, model_type)\n",
        "    elif model_type == 'bm25':\n",
        "        indexator = IndexatorBM25(corpus, texts)\n",
        "    else:\n",
        "        raise ValueError('Embedder must be BM-25 (bm25), Word2Vec (w2v) or Navec (nvc)!')\n",
        "    outputs = indexator.get_top_n(query, n)\n",
        "    timing = round(time.time() - start, 2)\n",
        "    return render_template('output.html', outputs=outputs, n=n, query=query, timing=timing)"
      ]
    },
    {
      "cell_type": "code",
      "execution_count": null,
      "metadata": {
        "id": "NjJn5sAJNtCL"
      },
      "outputs": [],
      "source": [
        "if __name__ == '__main__':\n",
        "  app.run()"
      ]
    },
    {
      "cell_type": "code",
      "source": [],
      "metadata": {
        "id": "BhUrbS_eypAB"
      },
      "execution_count": null,
      "outputs": []
    }
  ],
  "metadata": {
    "colab": {
      "provenance": []
    },
    "kernelspec": {
      "display_name": "Python 3",
      "name": "python3"
    },
    "language_info": {
      "name": "python"
    }
  },
  "nbformat": 4,
  "nbformat_minor": 0
}