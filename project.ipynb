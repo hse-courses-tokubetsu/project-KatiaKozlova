{
  "nbformat": 4,
  "nbformat_minor": 0,
  "metadata": {
    "colab": {
      "provenance": []
    },
    "kernelspec": {
      "name": "python3",
      "display_name": "Python 3"
    },
    "language_info": {
      "name": "python"
    }
  },
  "cells": [
    {
      "cell_type": "code",
      "source": [
        "import wget\n",
        "import shutil\n",
        "\n",
        "pth = wget.download('https://storage.yandexcloud.net/natasha-navec/packs/navec_hudlit_v1_12B_500K_300d_100q.tar')\n",
        "pth = wget.download('http://vectors.nlpl.eu/repository/20/65.zip')\n",
        "pth = shutil.copytree('drive/MyDrive/project', '/content', dirs_exist_ok=True)"
      ],
      "metadata": {
        "id": "uqSKtoET1GKu"
      },
      "execution_count": 2,
      "outputs": []
    },
    {
      "cell_type": "code",
      "execution_count": 30,
      "metadata": {
        "id": "kTUkoeKg24wS"
      },
      "outputs": [],
      "source": [
        "from flask import Flask, render_template, request, redirect, url_for\n",
        "from flask_ngrok import run_with_ngrok\n",
        "from bm import IndexatorBM25\n",
        "from embed import Embedder\n",
        "from lemm import Lemmatizer\n",
        "import json\n",
        "from os import path\n",
        "import time\n",
        "\n",
        "app = Flask(__name__)\n",
        "run_with_ngrok(app)\n",
        "\n",
        "@app.route('/')\n",
        "def home():\n",
        "    return render_template('home.html')\n",
        "\n",
        "@app.route('/about')\n",
        "def about():\n",
        "    return render_template('about.html')\n",
        "\n",
        "@app.route('/process', methods=['GET', 'POST'])\n",
        "def answer_process():\n",
        "    query = request.args.get('search')\n",
        "    n = int(request.args.get('n_top'))\n",
        "    model_type = request.args.get('models')\n",
        "    if not all([query, model_type]):\n",
        "        return redirect(url_for('home'))\n",
        "    start = time.time()\n",
        "    if not path.isfile('corpus.json'):\n",
        "        lemzer = Lemmatizer()\n",
        "        corpus, texts = lemzer.preprocess()\n",
        "        with open('corpus.json', 'w', encoding='utf-8') as corp:\n",
        "            json.dump(corpus, corp, ensure_ascii=False, indent=3)\n",
        "        with open('texts.json', 'w', encoding='utf-8') as txt:\n",
        "            json.dump(texts, txt, ensure_ascii=False, indent=3)\n",
        "    else:\n",
        "        with open('corpus.json', 'r', encoding='utf-8') as corp:\n",
        "            corpus = json.load(corp)\n",
        "        with open('texts.json', 'r', encoding='utf-8') as txt:\n",
        "            texts = json.load(txt)\n",
        "\n",
        "    if model_type == 'w2v' or model_type == 'nvc':\n",
        "        indexator = Embedder(corpus, texts, model_type)\n",
        "    elif model_type == 'bm25':\n",
        "        indexator = IndexatorBM25(corpus, texts)\n",
        "    else:\n",
        "        raise ValueError('Embedder must be BM-25 (bm25), Word2Vec (w2v) or Navec (nvc)!')\n",
        "    outputs = indexator.get_top_n(query, n)\n",
        "    timing = round(time.time() - start, 2)\n",
        "    return render_template('output.html', outputs=outputs, n=n, query=query, timing=timing)"
      ]
    },
    {
      "cell_type": "code",
      "source": [
        "if __name__ == '__main__':\n",
        "  app.run()"
      ],
      "metadata": {
        "colab": {
          "base_uri": "https://localhost:8080/"
        },
        "id": "NjJn5sAJNtCL",
        "outputId": "587c590b-8bc9-43a8-cc0b-e3b896dc9d85"
      },
      "execution_count": 34,
      "outputs": [
        {
          "output_type": "stream",
          "name": "stdout",
          "text": [
            " * Serving Flask app '__main__'\n",
            " * Debug mode: off\n"
          ]
        },
        {
          "output_type": "stream",
          "name": "stderr",
          "text": [
            "INFO:werkzeug:\u001b[31m\u001b[1mWARNING: This is a development server. Do not use it in a production deployment. Use a production WSGI server instead.\u001b[0m\n",
            " * Running on http://127.0.0.1:5000\n",
            "INFO:werkzeug:\u001b[33mPress CTRL+C to quit\u001b[0m\n"
          ]
        },
        {
          "output_type": "stream",
          "name": "stdout",
          "text": [
            " * Running on http://1b2e-34-125-13-12.ngrok-free.app\n",
            " * Traffic stats available on http://127.0.0.1:4040\n"
          ]
        },
        {
          "output_type": "stream",
          "name": "stderr",
          "text": [
            "INFO:werkzeug:127.0.0.1 - - [17/Oct/2023 17:14:57] \"GET / HTTP/1.1\" 200 -\n",
            "INFO:werkzeug:127.0.0.1 - - [17/Oct/2023 17:14:57] \"GET /static/logo.png HTTP/1.1\" 200 -\n",
            "INFO:werkzeug:127.0.0.1 - - [17/Oct/2023 17:14:57] \"GET /static/search.png HTTP/1.1\" 200 -\n",
            "INFO:werkzeug:127.0.0.1 - - [17/Oct/2023 17:14:57] \"GET /static/BonaNova-Regular.otf HTTP/1.1\" 200 -\n",
            "INFO:werkzeug:127.0.0.1 - - [17/Oct/2023 17:14:58] \"\u001b[33mGET /favicon.ico HTTP/1.1\u001b[0m\" 404 -\n",
            "INFO:werkzeug:127.0.0.1 - - [17/Oct/2023 17:14:59] \"GET /about HTTP/1.1\" 200 -\n",
            "INFO:werkzeug:127.0.0.1 - - [17/Oct/2023 17:14:59] \"GET /static/joke.png HTTP/1.1\" 200 -\n",
            "INFO:werkzeug:127.0.0.1 - - [17/Oct/2023 17:14:59] \"GET /static/loupe.png HTTP/1.1\" 200 -\n",
            "INFO:werkzeug:127.0.0.1 - - [17/Oct/2023 17:14:59] \"\u001b[36mGET /static/logo.png HTTP/1.1\u001b[0m\" 304 -\n",
            "INFO:werkzeug:127.0.0.1 - - [17/Oct/2023 17:14:59] \"GET /static/katya.png HTTP/1.1\" 200 -\n",
            "INFO:werkzeug:127.0.0.1 - - [17/Oct/2023 17:14:59] \"\u001b[36mGET /static/BonaNova-Regular.otf HTTP/1.1\u001b[0m\" 304 -\n"
          ]
        }
      ]
    },
    {
      "cell_type": "code",
      "source": [],
      "metadata": {
        "id": "UUc4Y4RXvlEo"
      },
      "execution_count": null,
      "outputs": []
    }
  ]
}